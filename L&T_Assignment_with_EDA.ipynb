{
  "nbformat": 4,
  "nbformat_minor": 0,
  "metadata": {
    "kernelspec": {
      "display_name": "Python 3",
      "language": "python",
      "name": "python3"
    },
    "language_info": {
      "name": "python",
      "version": "3.6.4",
      "mimetype": "text/x-python",
      "codemirror_mode": {
        "name": "ipython",
        "version": 3
      },
      "pygments_lexer": "ipython3",
      "nbconvert_exporter": "python",
      "file_extension": ".py"
    },
    "colab": {
      "name": "L&T Assignment with EDA.ipynb",
      "version": "0.3.2",
      "provenance": [],
      "collapsed_sections": [
        "XUWM3rVSIBCv",
        "jIJnLVuWIBC4",
        "nLB0oK_BIBDR"
      ],
      "include_colab_link": true
    }
  },
  "cells": [
    {
      "cell_type": "markdown",
      "metadata": {
        "id": "view-in-github",
        "colab_type": "text"
      },
      "source": [
        "<a href=\"https://colab.research.google.com/github/sachinkun21/Fuel_Efficiency_Forecast/blob/master/L%26T_Assignment_with_EDA.ipynb\" target=\"_parent\"><img src=\"https://colab.research.google.com/assets/colab-badge.svg\" alt=\"Open In Colab\"/></a>"
      ]
    },
    {
      "cell_type": "markdown",
      "metadata": {
        "id": "an1cVinsNHSk",
        "colab_type": "text"
      },
      "source": [
        "### Collect Data → Explore and Transform Data (EDA) → Develop Model → Evaluate Model → Deploy Model → Maintain"
      ]
    },
    {
      "cell_type": "markdown",
      "metadata": {
        "_uuid": "d629ff2d2480ee46fbb7e2d37f6b5fab8052498a",
        "_cell_guid": "79c7e3d0-c299-4dcb-8224-4455121ee9b0",
        "collapsed": true,
        "id": "bibVO5LLIBBV",
        "colab_type": "text"
      },
      "source": [
        "# INTRODUCTION\n",
        "\n",
        "\n",
        "\n",
        "* **EDA (Exploratory Data Analysis):**We will start with **data description and cleaning**, then we will visualize our data to understand better.\n",
        "\n",
        "* After that, we will focus on **time series prediction** to predict fuel level. \n",
        "* For time series prediction, we will use **ARIMA** method. \n",
        " \n",
        " <br> <font color='blue'> Content: \n",
        "    * [Load the Data](#1)\n",
        "    * [Data Description](#2)\n",
        "    * [Data Cleaning](#3)\n",
        "    * [Data Visualization](#4)\n",
        "    * [Time Series Prediction with ARIMA](#5)\n",
        "        * [ What is Time Series ?](#6)\n",
        "        * [Stationarity of a Time Series](#7)\n",
        "        * [Make a Time Series Stationary](#8)\n",
        "            * Moving Average method\n",
        "            * Differencing method\n",
        "        * [Forecasting a Time Series](#9)\n",
        "    * [Conclusion](#10)\n"
      ]
    },
    {
      "cell_type": "code",
      "metadata": {
        "_uuid": "c2c62be438ccc163754db2034239a4fac4568cc8",
        "_cell_guid": "34a00b81-13bc-4295-8e99-4c92b7277604",
        "trusted": true,
        "id": "aj28kAM6IBBW",
        "colab_type": "code",
        "colab": {}
      },
      "source": [
        "# Importing Libraries and Modules\n",
        "\n",
        "import numpy as np # for calculations\n",
        "import pandas as pd # data processing, Reading file I/O (e.g. pd.read_excel)\n",
        "import seaborn as sns # visualization library\n",
        "import matplotlib.pyplot as plt # visualization library\n",
        "import plotly.plotly as py # visualization library\n",
        "from plotly.offline import init_notebook_mode, iplot # plotly offline mode\n",
        "init_notebook_mode(connected=True) \n",
        "import plotly.graph_objs as go # plotly graphical object\n",
        "\n",
        "# Data set is available in Google Drive ;/content/drive/My Drive/Assignment L&T' folder.\n",
        "\n",
        "import os\n",
        "\n",
        "import warnings            \n",
        "warnings.filterwarnings(\"ignore\") # if there is a warning after some codes due to deprecation, this will avoid us to see them.\n",
        "plt.style.use('ggplot') # style set for plots\n"
      ],
      "execution_count": 0,
      "outputs": []
    },
    {
      "cell_type": "code",
      "metadata": {
        "id": "Y45bk1g_JeIm",
        "colab_type": "code",
        "colab": {}
      },
      "source": [
        "# Mounting Drive for Importing Dataset\n",
        "from google.colab import drive\n",
        "drive.mount('/content/drive')"
      ],
      "execution_count": 0,
      "outputs": []
    },
    {
      "cell_type": "code",
      "metadata": {
        "id": "vDqMgkycIihd",
        "colab_type": "code",
        "colab": {}
      },
      "source": [
        "# printing contents of Directory\n",
        "print(os.listdir(\"/content/drive/My Drive/Assignment L&T\"))"
      ],
      "execution_count": 0,
      "outputs": []
    },
    {
      "cell_type": "markdown",
      "metadata": {
        "_uuid": "2dea47e0aa3809774263fd695ec900b036de8006",
        "_cell_guid": "681b0de2-1b1d-4725-ba1c-e490a58a0a6f",
        "collapsed": true,
        "id": "7Ul3k2XCIBBa",
        "colab_type": "text"
      },
      "source": [
        "<a id=\"1\"></a> <br>\n",
        "## Loading the Data\n",
        "As the environment is set and Necessary modules have been Imported, we will proceed and read the dataset into pandas DataFrame for Analysis\n"
      ]
    },
    {
      "cell_type": "code",
      "metadata": {
        "_uuid": "73787f4958e5f369372bac77d3e6b4facd9b9c69",
        "_cell_guid": "49087d87-21d1-4911-ba31-58b8185a525e",
        "trusted": true,
        "id": "1aqXzDVcIBBb",
        "colab_type": "code",
        "colab": {}
      },
      "source": [
        "# Reading data from excel file into Pandas DataFrame\n",
        "df = pd.read_excel(\"/content/drive/My Drive/Assignment L&T/data_set.xlsx\")\n",
        "\n",
        "#Displaying the first 5 rows of DataFrame\n",
        "df.head()\n"
      ],
      "execution_count": 0,
      "outputs": []
    },
    {
      "cell_type": "code",
      "metadata": {
        "trusted": true,
        "id": "y_y1xcEgIBBh",
        "colab_type": "code",
        "colab": {}
      },
      "source": [
        ""
      ],
      "execution_count": 0,
      "outputs": []
    },
    {
      "cell_type": "code",
      "metadata": {
        "trusted": true,
        "id": "Ib0mhEGNIBBj",
        "colab_type": "code",
        "colab": {}
      },
      "source": [
        "df[(df['Level of Fuel']>0) & (df['ON/OFF']>0)].head(10)"
      ],
      "execution_count": 0,
      "outputs": []
    },
    {
      "cell_type": "markdown",
      "metadata": {
        "_uuid": "959f438a2d54d71f210bb9fe035d70124d8bb4ba",
        "_cell_guid": "90a6fa4a-14d5-4293-925e-3e9a852ed1bf",
        "id": "uAhkNMd1IBBm",
        "colab_type": "text"
      },
      "source": [
        "<a id=\"2\"></a> <br>\n",
        "## Data Description\n",
        "**DESCRIPTION OF FEATURE VARIABLES:**\n",
        "* Company ID: Represents Machine Type\n",
        "* DateTime: Contains the Date and Time when observation was Recorded\n",
        "* ON/OFF: Represents the Working State of Machine, i.e whether it is switched On or Off.\n",
        "* PF: \n",
        "* Kilowatt: Describes the measure of electrical energy Generated\n",
        "* KWH: kWH = kW * Hours. also represents Electric Energy Generated.\n",
        "ErrorCode: Represent the condition in which Machine is working"
      ]
    },
    {
      "cell_type": "markdown",
      "metadata": {
        "id": "33BYFZ8QIBBn",
        "colab_type": "text"
      },
      "source": [
        "### EDA:\n",
        "Descriptive Analysis"
      ]
    },
    {
      "cell_type": "code",
      "metadata": {
        "trusted": true,
        "colab_type": "code",
        "id": "_zWOEB0wQDd5",
        "colab": {}
      },
      "source": [
        "#Printing Column Names\n",
        "df.columns"
      ],
      "execution_count": 0,
      "outputs": []
    },
    {
      "cell_type": "code",
      "metadata": {
        "trusted": true,
        "id": "yI_c1k7sIBBo",
        "colab_type": "code",
        "colab": {}
      },
      "source": [
        "df.shape"
      ],
      "execution_count": 0,
      "outputs": []
    },
    {
      "cell_type": "markdown",
      "metadata": {
        "id": "3XWbi6hYPegq",
        "colab_type": "text"
      },
      "source": [
        "There are 72791 data Points or measurements available with 8 Feature Variables"
      ]
    },
    {
      "cell_type": "code",
      "metadata": {
        "trusted": true,
        "id": "JIfwnqoUIBBq",
        "colab_type": "code",
        "colab": {}
      },
      "source": [
        "df.info()"
      ],
      "execution_count": 0,
      "outputs": []
    },
    {
      "cell_type": "markdown",
      "metadata": {
        "id": "9N3CB-QMPshn",
        "colab_type": "text"
      },
      "source": [
        "DateTime is of DateTime datatype while rest of the features are Numeric.<br>\n",
        "Further, there is no Null/Missing Value in any of the Variables."
      ]
    },
    {
      "cell_type": "markdown",
      "metadata": {
        "id": "SP3DWVcyQdWQ",
        "colab_type": "text"
      },
      "source": [
        "#### Printing Numerical Description of all the Variables."
      ]
    },
    {
      "cell_type": "code",
      "metadata": {
        "trusted": true,
        "id": "d-79jMniIBBx",
        "colab_type": "code",
        "colab": {}
      },
      "source": [
        "df.describe()"
      ],
      "execution_count": 0,
      "outputs": []
    },
    {
      "cell_type": "markdown",
      "metadata": {
        "id": "piAHUKtbQup8",
        "colab_type": "text"
      },
      "source": [
        "### Printing Number of Measurements for each CompanyId i.e Device Generator"
      ]
    },
    {
      "cell_type": "code",
      "metadata": {
        "trusted": true,
        "id": "-gQ0fBZAIBB0",
        "colab_type": "code",
        "colab": {}
      },
      "source": [
        "df['Company Id'].value_counts()"
      ],
      "execution_count": 0,
      "outputs": []
    },
    {
      "cell_type": "markdown",
      "metadata": {
        "id": "DAQ8wkbMRBED",
        "colab_type": "text"
      },
      "source": [
        "Printing Error Code Counts for each Unqiue Code in Dataset"
      ]
    },
    {
      "cell_type": "code",
      "metadata": {
        "id": "flUK4To9duPL",
        "colab_type": "code",
        "colab": {}
      },
      "source": [
        "df['ON/OFF'].value_counts()"
      ],
      "execution_count": 0,
      "outputs": []
    },
    {
      "cell_type": "code",
      "metadata": {
        "trusted": true,
        "id": "0wwhYAsSIBB4",
        "colab_type": "code",
        "colab": {}
      },
      "source": [
        "df.ErrorCode.value_counts()"
      ],
      "execution_count": 0,
      "outputs": []
    },
    {
      "cell_type": "markdown",
      "metadata": {
        "id": "4PtsapGvRJiN",
        "colab_type": "text"
      },
      "source": [
        "Before we proceed with Cleaning and Analysis, Let's see for how many measurements the Level of Fuel was 0 i.e empty Tank"
      ]
    },
    {
      "cell_type": "code",
      "metadata": {
        "id": "rFW_8YMVPDbm",
        "colab_type": "code",
        "colab": {}
      },
      "source": [
        "print(df[df['Level of Fuel']==0].count()[0],'Points i.e', (df[df['Level of Fuel']==0].count()[0]/len(df))*100,' Percent of total measurements')"
      ],
      "execution_count": 0,
      "outputs": []
    },
    {
      "cell_type": "markdown",
      "metadata": {
        "id": "hFMXmd7CR_zB",
        "colab_type": "text"
      },
      "source": [
        "So, around 44.65% of total measurements reported Empty Tank"
      ]
    },
    {
      "cell_type": "markdown",
      "metadata": {
        "_uuid": "eacdae7ff53b4dd1acfef4cfd12f869b3cef58ea",
        "_cell_guid": "a7ea90e2-07f9-4cb1-8faa-f8b87219b703",
        "collapsed": true,
        "id": "OfwsgInmIBB7",
        "colab_type": "text"
      },
      "source": [
        "<a id=\"3\"></a> <br>\n",
        "## Data Cleaning:\n",
        "* If Dataset contained Null/Missing values, Instead of usign them, we should drop or Impute them based on count. It will not only remove the uncertainty but it also help us in visualization.\n",
        "* Since our dataset does not contain NaN value we will not or impute anything with further analysis. \n",
        "    \n",
        "* According to exploratory data analysis and visualization, we will pick certain variables in order to examine them deeper. "
      ]
    },
    {
      "cell_type": "markdown",
      "metadata": {
        "id": "ys9whtpERLZY",
        "colab_type": "text"
      },
      "source": [
        "### Outlier Detection Using BoxPlot"
      ]
    },
    {
      "cell_type": "code",
      "metadata": {
        "id": "5Sy5p1KJRb0O",
        "colab_type": "code",
        "colab": {}
      },
      "source": [
        "f, ax = plt.subplots(figsize=(10, 8))\n",
        "fig = sns.boxplot(x='Company Id', y=\"KiloWatt\", data=df)\n",
        "plt.show()"
      ],
      "execution_count": 0,
      "outputs": []
    },
    {
      "cell_type": "markdown",
      "metadata": {
        "_uuid": "8f359fe02a072fd81793ba3ff52bc5c7ffa5b42e",
        "_cell_guid": "cb06c464-9845-4ab8-9dd8-623fe248bba7",
        "id": "h34NdPa3IBCG",
        "colab_type": "text"
      },
      "source": [
        "<a id=\"4\"></a> <br>\n",
        "## Data Visualization\n",
        "* Lets start with basics of visualization for understanding data.\n",
        "    * We will plot pairWise relation among each Variable for Status Type ON and OFF seperately in each subplot\n",
        "    * Top target countries\n",
        "    * Top 10 aircraft series\n",
        "    * Takeoff base locations (Attacjk countries)\n",
        "    * Target locations (If you do not understand methods of pyplot look at my pyplot tutorial: https://www.kaggle.com/kanncaa1/plotly-tutorial-for-beginners)\n",
        "    * Bombing paths\n",
        "    * Theater of Operations\n",
        "    * Weather station locations"
      ]
    },
    {
      "cell_type": "markdown",
      "metadata": {
        "id": "YrNv14JMkqDb",
        "colab_type": "text"
      },
      "source": [
        "**Let's see how the numerical data is distributed**"
      ]
    },
    {
      "cell_type": "code",
      "metadata": {
        "id": "Vz4ok5jUkmyQ",
        "colab_type": "code",
        "colab": {}
      },
      "source": [
        "import matplotlib.pyplot as plt\n",
        "plt.style.use('seaborn-whitegrid')\n",
        "\n",
        "df.hist(bins=20, figsize=(14,10), color='#E14906', edgecolor ='black')\n",
        "plt.show()"
      ],
      "execution_count": 0,
      "outputs": []
    },
    {
      "cell_type": "code",
      "metadata": {
        "id": "9ozbO4h8ecCH",
        "colab_type": "code",
        "colab": {}
      },
      "source": [
        "sns.set(style=\"ticks\")\n",
        "\n",
        "sns.pairplot(df, hue=\"ON/OFF\", palette=\"Set1\")\n",
        "plt.show()"
      ],
      "execution_count": 0,
      "outputs": []
    },
    {
      "cell_type": "code",
      "metadata": {
        "id": "SYvmrmY-eUvF",
        "colab_type": "code",
        "colab": {}
      },
      "source": [
        "plt.figure(figsize=(12,8))\n",
        "sns.countplot(df['Company Id'])\n",
        "plt.xticks(rotation=90)\n",
        "plt.show()"
      ],
      "execution_count": 0,
      "outputs": []
    },
    {
      "cell_type": "code",
      "metadata": {
        "id": "YB3sCV1Nx-NK",
        "colab_type": "code",
        "colab": {}
      },
      "source": [
        "plt.subplots( figsize=(20,8))\n",
        "\n",
        "sns.lineplot(x='KiloWatt', y = 'KWH', data = df)\n",
        "\n",
        "plt.show()"
      ],
      "execution_count": 0,
      "outputs": []
    },
    {
      "cell_type": "code",
      "metadata": {
        "_uuid": "1af1c613e9296f21f4bb42d0b63baeb80f8d5ec2",
        "_cell_guid": "e8008993-6dd2-4461-9010-6ea670ffee23",
        "trusted": true,
        "id": "pVKkD9XKIBCH",
        "colab_type": "code",
        "colab": {}
      },
      "source": [
        "f, ax = plt.subplots(1,2, figsize=(20,8))\n",
        "\n",
        "colors = [ \"#64FE2E\",\"#FA5858\"]\n",
        "labels =\"Status On\", \"Status OFF\"\n",
        "\n",
        "plt.suptitle('Information on Status of Each Machine Type', fontsize=20)\n",
        "\n",
        "df[\"ON/OFF\"].value_counts().plot.pie(explode=[0,0.05], autopct='%1.2f%%', ax=ax[0], shadow=True, colors=colors, \n",
        "                                             labels=labels, fontsize=15, startangle=45)\n",
        "\n",
        "\n",
        "\n",
        "ax[0].set_xlabel('ON/OFF Status percentage', fontsize=14)\n",
        "ax[0].set_ylabel('')\n",
        "\n",
        "palette = [\"#64FE2E\", \"#FA5858\"]\n",
        "\n",
        "sns.barplot(x=\"Company Id\", y=\"Level of Fuel\", hue=\"ON/OFF\", data=df, palette=palette, estimator=lambda x: sum(x)/len(x))\n",
        "ax[1].set(ylabel=\"(Mean Value of Level of Fuel)\")\n",
        "ax[1].set_xticklabels(df[\"Company Id\"].unique(), rotation=0, rotation_mode=\"anchor\")\n",
        "plt.show()"
      ],
      "execution_count": 0,
      "outputs": []
    },
    {
      "cell_type": "code",
      "metadata": {
        "id": "A_evIKVhWEMP",
        "colab_type": "code",
        "colab": {}
      },
      "source": [
        "f, ax = plt.subplots(1,2, figsize=(20,8))\n",
        "\n",
        "colors = [\"#FA5858\", \"#64FE2E\"]\n",
        "labels =\"Error Code 0\", \"Error Code 1\"\n",
        "\n",
        "plt.suptitle('Information on ErrorCode of Each Machine Type', fontsize=20)\n",
        "\n",
        "df[\"ErrorCode\"].value_counts().plot.pie(explode=[0,0.10], autopct='%1.2f%%', ax=ax[0], shadow=True, colors=colors, \n",
        "                                             labels=labels, fontsize=15, startangle=45)\n",
        "\n",
        "\n",
        "\n",
        "ax[0].set_xlabel('ON/OFF Status percentage', fontsize=14)\n",
        "ax[0].set_ylabel('')\n",
        "\n",
        "\n",
        "palette = [\"#64FE2E\", \"#FA5858\"]\n",
        "\n",
        "sns.barplot(x=\"Company Id\", y=\"Level of Fuel\", hue=\"ErrorCode\", data=df, palette=palette, estimator=lambda x:sum(x)/len(x))\n",
        "ax[1].set(ylabel=\"(Mean Value of Level of Fuel)\")\n",
        "ax[1].set_xticklabels(df[\"Company Id\"].unique(), rotation=0, rotation_mode=\"anchor\")\n",
        "plt.show()"
      ],
      "execution_count": 0,
      "outputs": []
    },
    {
      "cell_type": "code",
      "metadata": {
        "id": "sI6lrx-tc5-4",
        "colab_type": "code",
        "colab": {}
      },
      "source": [
        "f, ax = plt.subplots(1,2, figsize=(20,8))\n",
        "\n",
        "palette = [\"#64FE2E\", \"#FA5858\"]\n",
        "\n",
        "sns.barplot(x=\"Company Id\", y=\"KWH\", hue=\"ErrorCode\", data=df, palette=palette, estimator=lambda x:sum(x)/len(x), ax=ax[0])\n",
        "ax[0].set(ylabel=\"(Mean Value of Power Generated)\")\n",
        "ax[0].set_xticklabels(df[\"Company Id\"].unique(), rotation=0, rotation_mode=\"anchor\")\n",
        "\n",
        "\n",
        "colors = [\"#FA5858\", \"#64FE2E\"]\n",
        "labels =\"Error Code 0\", \"Error Code 1\"\n",
        "\n",
        "plt.suptitle('Information on ErrorCode of Each Machine Type', fontsize=20)\n",
        "\n",
        "df[\"ErrorCode\"].value_counts().plot.pie(explode=[0,0.10], autopct='%1.2f%%', ax=ax[1], shadow=True, colors=colors, \n",
        "                                             labels=labels, fontsize=15, startangle=25)\n",
        "\n",
        "\n",
        "\n",
        "ax[1].set_xlabel('ON/OFF Status percentage', fontsize=14)\n",
        "ax[1].set_ylabel('')\n",
        "\n",
        "\n",
        "plt.show()"
      ],
      "execution_count": 0,
      "outputs": []
    },
    {
      "cell_type": "markdown",
      "metadata": {
        "id": "3nWUKAemc6kz",
        "colab_type": "text"
      },
      "source": [
        "## Plotting the Correlation Matrix of Dataset"
      ]
    },
    {
      "cell_type": "code",
      "metadata": {
        "id": "LKEIuZAmWt5y",
        "colab_type": "code",
        "colab": {}
      },
      "source": [
        "plt.figure(figsize=(14,8))\n",
        "sns.heatmap(df.corr(), annot = True,cmap=\"OrRd\")\n",
        "plt.show()"
      ],
      "execution_count": 0,
      "outputs": []
    },
    {
      "cell_type": "code",
      "metadata": {
        "id": "EEpQlTsMp1nw",
        "colab_type": "code",
        "colab": {}
      },
      "source": [
        "StatusOn_df = df.loc[df[\"ON/OFF\"] == 1]\n",
        "\n",
        "list_of_CompanyID = df[\"Company Id\"].unique().tolist()\n",
        "print(list_of_CompanyID)"
      ],
      "execution_count": 0,
      "outputs": []
    },
    {
      "cell_type": "code",
      "metadata": {
        "trusted": true,
        "_uuid": "ce67d3ba243b3c812a9e56d38d265c1d94406693",
        "id": "heJvgyf5IBCJ",
        "colab_type": "code",
        "colab": {}
      },
      "source": [
        "# StatusOn_df = df.loc[df[\"ON/OFF\"] == 1]\n",
        "\n",
        "# list_of_CompanyID = df[\"Company Id\"].unique().tolist()\n",
        "\n",
        "# # Get the balances by jobs\n",
        "# CompanyID_25502921 = StatusOn_df[\"KWH\"].loc[StatusOn_df[\"Company Id\"] == list_of_CompanyID[0]].values\n",
        "# CompanyID_25750275 = StatusOn_df[\"KWH\"].loc[StatusOn_df[\"Company Id\"] == list_of_CompanyID[1]].values\n",
        "# CompanyID_25921010 = StatusOn_df[\"KWH\"].loc[StatusOn_df[\"Company Id\"] == list_of_CompanyID[2]].values\n",
        "# CompanyID_25921355 = StatusOn_df[\"KWH\"].loc[StatusOn_df[\"Company Id\"] == list_of_CompanyID[3]].values\n",
        "# CompanyID_25927159 = StatusOn_df[\"KWH\"].loc[StatusOn_df[\"Company Id\"] == list_of_CompanyID[4]].values\n",
        "\n",
        "\n",
        "\n",
        "\n",
        "# companies = [CompanyID_25502921,CompanyID_25750275,CompanyID_25921010,CompanyID_25921355,CompanyID_25927159]\n",
        "# list_of_CompanyID = [str(id) for id in companies]\n",
        "\n",
        "\n",
        "\n",
        "# colors = ['rgba(93, 164, 214, 0.5)', 'rgba(255, 144, 14, 0.5)',\n",
        "#           'rgba(44, 160, 101, 0.5)', 'rgba(255, 65, 54, 0.5)', \n",
        "#           'rgba(174, 229, 56, 0.5)']\n",
        "\n",
        "# traces = []\n",
        "\n",
        "# for xd, yd, cls in zip(list_of_CompanyID, companies, colors):\n",
        "#         traces.append(go.Box(\n",
        "#             y=yd,\n",
        "#             name=xd,\n",
        "#             boxpoints='all',\n",
        "#             jitter=0.5,\n",
        "#             whiskerwidth=0.2,\n",
        "#             fillcolor=cls,\n",
        "#             marker=dict(\n",
        "#                 size=2,\n",
        "#             ),\n",
        "#             line=dict(width=1),\n",
        "#         ))\n",
        "\n",
        "# layout = go.Layout(\n",
        "#     title='Distribution of Power Generated per CompanyID',\n",
        "#     yaxis=dict(\n",
        "#         autorange=True,\n",
        "#         showgrid=True,\n",
        "#         zeroline=True,\n",
        "#         dtick=5,\n",
        "#         gridcolor='rgb(255, 255, 255)',\n",
        "#         gridwidth=1,\n",
        "#         zerolinecolor='rgb(255, 255, 255)',\n",
        "#         zerolinewidth=2,\n",
        "#     ),\n",
        "#     margin=dict(\n",
        "#         l=40,\n",
        "#         r=30,\n",
        "#         b=80,\n",
        "#         t=100,\n",
        "#     ),\n",
        "#     paper_bgcolor='rgb(224,255,246)',\n",
        "#     plot_bgcolor='rgb(251,251,251)',\n",
        "#     showlegend=False\n",
        "# )\n",
        "\n",
        "# fig = go.Figure(data=traces, layout=layout)\n",
        "# iplot(fig)\n"
      ],
      "execution_count": 0,
      "outputs": []
    },
    {
      "cell_type": "code",
      "metadata": {
        "id": "9M8Vm6_JTGnA",
        "colab_type": "code",
        "colab": {}
      },
      "source": [
        ""
      ],
      "execution_count": 0,
      "outputs": []
    },
    {
      "cell_type": "code",
      "metadata": {
        "_uuid": "b72c657459a33da55ade51882e04e048a20e14e0",
        "scrolled": true,
        "_cell_guid": "036f88bc-ed65-4dce-b6e6-f3eba1b2a881",
        "trusted": true,
        "id": "2VYX3cUYIBCN",
        "colab_type": "code",
        "colab": {}
      },
      "source": [
        "# # Aircraft Series\n",
        "# data = df['Company Id'].value_counts()\n",
        "\n",
        "# data = [go.Bar(\n",
        "#             x=data.index,\n",
        "#             y=data.values,\n",
        "#             hoverinfo = 'text',\n",
        "#             marker = dict(color = 'rgba(177, 14, 22, 0.5)',\n",
        "#                              line=dict(color='rgb(0,0,0)',width=1.5)),\n",
        "#     )]\n",
        "\n",
        "# layout = dict(\n",
        "#     title = 'Company Id',\n",
        "# )\n",
        "# fig = go.Figure(data=data, layout=layout)\n",
        "# iplot(fig)"
      ],
      "execution_count": 0,
      "outputs": []
    },
    {
      "cell_type": "code",
      "metadata": {
        "id": "Dd7Hah3uvFYt",
        "colab_type": "code",
        "colab": {}
      },
      "source": [
        ""
      ],
      "execution_count": 0,
      "outputs": []
    },
    {
      "cell_type": "markdown",
      "metadata": {
        "_uuid": "92b4072489d9f8c17d01c256238bffa3a86464e4",
        "_cell_guid": "79964b65-ff90-4aff-937a-452719f38fc8",
        "id": "VamxlLoOIBCS",
        "colab_type": "text"
      },
      "source": [
        "## Feature Engineering\n",
        "    "
      ]
    },
    {
      "cell_type": "markdown",
      "metadata": {
        "_uuid": "cfd4f1918fdac0d63b923719376949fdfeebaa1a",
        "_cell_guid": "4fbd69e9-04c6-4f9a-9545-9424c4a9952a",
        "id": "rfpW8lHoIBCX",
        "colab_type": "text"
      },
      "source": [
        "### In this section, we will Calculate Fuel consumed using following steps:\n",
        "\n",
        "1.   We will seperate Data for each machine in a new DataFrame.\n",
        "2.   For Each Dataframe formed, We will calculate Fuel Consumption for Each Record/Datapoint by subtracting 'Fuel Level' in the record/Datapoint just before that Datapoint.<br>\n",
        "For Detailed Explanation see the `fuel_consumption` Function and It's documentaition given below.\n",
        "3. Next We Will Resample the Datapoints in each Dataframe using 'Day' as Time Period(i.e aggregating the per 15 seconds caluculation into Daily Calculation) and sum the Fuel Consumption over each day.\n",
        "Thus we will get Daily Fuel Consumption.\n",
        "\n",
        "\n"
      ]
    },
    {
      "cell_type": "code",
      "metadata": {
        "_uuid": "707dfeea58990539b03541ec091fa28cabf8e045",
        "scrolled": true,
        "_cell_guid": "b9eaaec2-baa4-4ec5-9a5d-7e7e3e93abca",
        "trusted": true,
        "id": "g_KaGyf9IBCa",
        "colab_type": "code",
        "colab": {}
      },
      "source": [
        "df.head()"
      ],
      "execution_count": 0,
      "outputs": []
    },
    {
      "cell_type": "markdown",
      "metadata": {
        "id": "s_gu5zmA-FtM",
        "colab_type": "text"
      },
      "source": [
        "Creating One DataFrame for Each Company ID i.e Machine Code"
      ]
    },
    {
      "cell_type": "code",
      "metadata": {
        "id": "Cbl7J1lf-VQd",
        "colab_type": "code",
        "colab": {}
      },
      "source": [
        "list_of_CompanyID = df[\"Company Id\"].unique().tolist()\n",
        "print(list_of_CompanyID)"
      ],
      "execution_count": 0,
      "outputs": []
    },
    {
      "cell_type": "code",
      "metadata": {
        "id": "L7KePkmv9hVJ",
        "colab_type": "code",
        "colab": {}
      },
      "source": [
        "df_machine1=df.loc[df['Company Id']==list_of_CompanyID[0]].reset_index()\n",
        "df_machine2=df.loc[df['Company Id']==list_of_CompanyID[1]].reset_index()\n",
        "df_machine3=df.loc[df['Company Id']==list_of_CompanyID[2]].reset_index()\n",
        "df_machine4=df.loc[df['Company Id']==list_of_CompanyID[3]].reset_index()\n",
        "df_machine5=df.loc[df['Company Id']==list_of_CompanyID[4]].reset_index()\n",
        "df_machine3.head()"
      ],
      "execution_count": 0,
      "outputs": []
    },
    {
      "cell_type": "code",
      "metadata": {
        "id": "rBcI31uk-7c2",
        "colab_type": "code",
        "colab": {}
      },
      "source": [
        "df_machine3.loc[df_machine3['Level of Fuel']>0].head(5)"
      ],
      "execution_count": 0,
      "outputs": []
    },
    {
      "cell_type": "code",
      "metadata": {
        "id": "qQQ0LYXV_3Jh",
        "colab_type": "code",
        "colab": {}
      },
      "source": [
        "len(df_machine1)"
      ],
      "execution_count": 0,
      "outputs": []
    },
    {
      "cell_type": "markdown",
      "metadata": {
        "id": "3aFJNB1A_aaJ",
        "colab_type": "text"
      },
      "source": [
        "## Function for calulation Fuel consumption at Each DataPoint/record."
      ]
    },
    {
      "cell_type": "code",
      "metadata": {
        "id": "TuiWh7jJIwDe",
        "colab_type": "code",
        "colab": {}
      },
      "source": [
        "# df_machine3.at[107, 'Fuel Consumption'] = df_machine3.iloc[106]['Level of Fuel']-df_machine3.iloc[107]['Level of Fuel']\n",
        "# df_machine3.iloc[107]['Fuel Consumption']"
      ],
      "execution_count": 0,
      "outputs": []
    },
    {
      "cell_type": "code",
      "metadata": {
        "id": "Da6G9daA-7Rh",
        "colab_type": "code",
        "colab": {}
      },
      "source": [
        "def fuel_consumption(dataframe):\n",
        "  for i in range(1,len(dataframe)):\n",
        "      dataframe.at[i, 'Fuel Consumption']=dataframe.iloc[i-1]['Level of Fuel']-dataframe.iloc[i]['Level of Fuel']\n",
        "    \n",
        "      "
      ],
      "execution_count": 0,
      "outputs": []
    },
    {
      "cell_type": "code",
      "metadata": {
        "id": "1I0vbXfy-7Bc",
        "colab_type": "code",
        "colab": {}
      },
      "source": [
        "fuel_consumption(df_machine1)\n",
        "fuel_consumption(df_machine2)\n",
        "fuel_consumption(df_machine3)\n",
        "fuel_consumption(df_machine4)\n",
        "fuel_consumption(df_machine5)\n"
      ],
      "execution_count": 0,
      "outputs": []
    },
    {
      "cell_type": "code",
      "metadata": {
        "id": "G-qa0aSh-54g",
        "colab_type": "code",
        "colab": {}
      },
      "source": [
        "machine3_positive_consumption = df_machine3.loc[df_machine3['Fuel Consumption']>0]\n",
        "print('Total Instances where fuel was consumed:',len(machine3_positive_consumption))\n",
        "print('\\n')\n",
        "print('Top 5 rows of such instances:\\n')\n",
        "machine3_positive_consumption.head()"
      ],
      "execution_count": 0,
      "outputs": []
    },
    {
      "cell_type": "code",
      "metadata": {
        "id": "ek1RFxP6EEMe",
        "colab_type": "code",
        "colab": {}
      },
      "source": [
        "machine3_positive_consumption['Fuel Consumption'].quantile([.1, .25, .5, .75, 0.85,0.87,0.90,0.95, 0.99])"
      ],
      "execution_count": 0,
      "outputs": []
    },
    {
      "cell_type": "code",
      "metadata": {
        "id": "Kr5MTa9CTiWC",
        "colab_type": "code",
        "colab": {}
      },
      "source": [
        "print('Count: ',len(df_machine3.loc[(df_machine3['Fuel Consumption']<0)]))\n",
        "df_machine3.loc[(df_machine3['Fuel Consumption']<0)].head()"
      ],
      "execution_count": 0,
      "outputs": []
    },
    {
      "cell_type": "code",
      "metadata": {
        "id": "75_9xDaNHJg7",
        "colab_type": "code",
        "colab": {}
      },
      "source": [
        "df_machine3.loc[(df_machine3['Fuel Consumption']<0) & (df_machine3['ErrorCode']!=0)].head()"
      ],
      "execution_count": 0,
      "outputs": []
    },
    {
      "cell_type": "code",
      "metadata": {
        "id": "SyFSmhR2Hiji",
        "colab_type": "code",
        "colab": {}
      },
      "source": [
        ""
      ],
      "execution_count": 0,
      "outputs": []
    },
    {
      "cell_type": "code",
      "metadata": {
        "id": "NaFBX_-mrm1a",
        "colab_type": "code",
        "colab": {}
      },
      "source": [
        ""
      ],
      "execution_count": 0,
      "outputs": []
    },
    {
      "cell_type": "markdown",
      "metadata": {
        "id": "4XNCF3o60elw",
        "colab_type": "text"
      },
      "source": [
        "### Linear Regression Model for Machine 3:"
      ]
    },
    {
      "cell_type": "code",
      "metadata": {
        "id": "9O1WPx7Q04FT",
        "colab_type": "code",
        "colab": {}
      },
      "source": [
        "X= df_machine3.drop(['DateTime', 'Company Id', 'Fuel Consumption'], axis  = 1)\n",
        "y=df_machine3['Fuel Consumption']"
      ],
      "execution_count": 0,
      "outputs": []
    },
    {
      "cell_type": "code",
      "metadata": {
        "id": "H1UtGWGu0nim",
        "colab_type": "code",
        "colab": {}
      },
      "source": [
        "\n",
        "from sklearn.model_selection import train_test_split\n",
        "X_train,X_test, y_train, y_test = train_test_split(X,y,train_size=0.7,test_size=0.3, random_state=42 )\n",
        "print(len(X_train), len(X_test))"
      ],
      "execution_count": 0,
      "outputs": []
    },
    {
      "cell_type": "code",
      "metadata": {
        "id": "I_f4KjQb6xQ5",
        "colab_type": "code",
        "colab": {}
      },
      "source": [
        "print(X_train.head())\n",
        "print(y_train.head())"
      ],
      "execution_count": 0,
      "outputs": []
    },
    {
      "cell_type": "code",
      "metadata": {
        "id": "Jwj0XQTG2rZy",
        "colab_type": "code",
        "colab": {}
      },
      "source": [
        "from sklearn.linear_model import Lasso\n",
        "from sklearn.model_selection import GridSearchCV\n",
        "from sklearn.preprocessing import MinMaxScaler\n",
        "\n",
        "\n",
        "from sklearn import linear_model\n",
        "from sklearn.linear_model import LinearRegression"
      ],
      "execution_count": 0,
      "outputs": []
    },
    {
      "cell_type": "code",
      "metadata": {
        "id": "5izMNHGT0ngd",
        "colab_type": "code",
        "colab": {}
      },
      "source": [
        "\n",
        "model = LinearRegression()\n",
        "\n",
        "# lasso_model_cv = GridSearchCV(estimator = lasso_cv, param_grid=params, scoring = 'neg_mean_squared_log_error', \n",
        "#                         cv = 5,return_train_score=True,verbose = 1)"
      ],
      "execution_count": 0,
      "outputs": []
    },
    {
      "cell_type": "code",
      "metadata": {
        "id": "6UovgZwQ6dC3",
        "colab_type": "code",
        "colab": {}
      },
      "source": [
        "model.fit(X_train,y_train)\n",
        "y_pred=model.predict(X_test)\n",
        "y_pred=model.predict(X_test)\n",
        "y_train_pred=model.predict(X_train)\n"
      ],
      "execution_count": 0,
      "outputs": []
    },
    {
      "cell_type": "code",
      "metadata": {
        "id": "Qxfh8c827m_s",
        "colab_type": "code",
        "colab": {}
      },
      "source": [
        "y_pred"
      ],
      "execution_count": 0,
      "outputs": []
    },
    {
      "cell_type": "code",
      "metadata": {
        "id": "5CX1hRXR0nMm",
        "colab_type": "code",
        "colab": {}
      },
      "source": [
        "from sklearn.metrics import r2_score\n",
        "print('test_score %2.2f' % r2_score(y_test,y_pred))\n",
        "print('Train_score %2.2f'% r2_score(y_train,y_train_pred))"
      ],
      "execution_count": 0,
      "outputs": []
    },
    {
      "cell_type": "code",
      "metadata": {
        "id": "I4OvuESg86aE",
        "colab_type": "code",
        "colab": {}
      },
      "source": [
        "from sklearn.metrics import mean_squared_error\n",
        "mean_squared_error(y_test,y_pred)"
      ],
      "execution_count": 0,
      "outputs": []
    },
    {
      "cell_type": "markdown",
      "metadata": {
        "_uuid": "6259cfd69049aed8771b9bd2a6dab39a331edf40",
        "_cell_guid": "e96cc732-8fe1-4c24-ad53-70799fafd6f9",
        "collapsed": true,
        "id": "uV2kDkRSIBCu",
        "colab_type": "text"
      },
      "source": [
        "<a id=\"5\"></a> <br>\n",
        "## Time Series Prediction with ARIMA\n",
        "* We will use most used method ARIMA\n",
        "* ARIMA :  AutoRegressive Integrated Moving Average. I will explain it detailed  at next parts.\n",
        "* The way that we will follow: \n",
        "    * What is Time Series ?\n",
        "    * Stationarity of a Time Series\n",
        "    * Make a Time Series Stationary?\n",
        "    * Forecasting a Time Series"
      ]
    },
    {
      "cell_type": "markdown",
      "metadata": {
        "_uuid": "8ecb9b677a5188ce0853b795509d73b3cb226f5d",
        "_cell_guid": "c856c190-f8f0-454b-9743-49458dfc8f0b",
        "collapsed": true,
        "id": "XUWM3rVSIBCv",
        "colab_type": "text"
      },
      "source": [
        "<a id=\"6\"></a> <br>\n",
        "### What is time series?\n",
        "* Time series is a collection of data points that are collected at constant time intervals.\n",
        "* It is time dependent.\n",
        "* Most of time series have some form of **seasonality trends**. For example, if we sale ice cream, most probably there will be higher sales in summer seasons. Therefore, this time series has seasonality trends.\n",
        "* Another example, lets think we dice one time every day during 1 year. As you guess, there will be no scenario like that number six is appeared mostly in summer season or number five is mostly appeared in January. Therefore, this time series does not have seasonality trends.\n"
      ]
    },
    {
      "cell_type": "markdown",
      "metadata": {
        "_uuid": "63c106c9ceb874600a538680f34742b43d9077c9",
        "_cell_guid": "4b09b06c-8433-4f69-832d-0d59e47e1a57",
        "collapsed": true,
        "id": "IgaWnxpnIBCw",
        "colab_type": "text"
      },
      "source": [
        "<a id=\"7\"></a> <br>\n",
        "### Stationarity of a Time Series\n",
        "* There are three basic criterion for a time series to understand whether it is stationary series or not.\n",
        "    * Statistical properties of time series such as mean, variance should remain constant over time to call **time series is stationary**\n",
        "        * constant mean\n",
        "        * constant variance\n",
        "        * autocovariance that does not depend on time. autocovariance is covariance between time series and lagged time series.\n",
        "* Lets visualize and check seasonality trend of our time series."
      ]
    },
    {
      "cell_type": "code",
      "metadata": {
        "_uuid": "ce4c0bb879dc62367e01339602dffe5cc61a83ce",
        "_cell_guid": "d12f48f0-8c87-441a-a7f7-fcad42c89970",
        "trusted": true,
        "id": "D6B6SVkjIBCw",
        "colab_type": "code",
        "colab": {}
      },
      "source": [
        "# Mean temperature of Bindikuri area\n",
        "plt.figure(figsize=(22,10))\n",
        "plt.plot(df.DateTime,df.KiloWatt)\n",
        "plt.title(\"Mean Temperature of Bindukuri Area\")\n",
        "plt.xlabel(\"Date\")\n",
        "plt.ylabel(\"Mean Temperature\")\n",
        "plt.show()\n",
        "\n",
        "\n"
      ],
      "execution_count": 0,
      "outputs": []
    },
    {
      "cell_type": "code",
      "metadata": {
        "id": "dMBfGOQvehe1",
        "colab_type": "code",
        "colab": {}
      },
      "source": [
        "# lets create time series from weather \n",
        "timeSeries = weather_bin.loc[:, [\"Date\",\"MeanTemp\"]]\n",
        "timeSeries.index = timeSeries.Date\n",
        "ts = timeSeries.drop(\"Date\",axis=1)"
      ],
      "execution_count": 0,
      "outputs": []
    },
    {
      "cell_type": "markdown",
      "metadata": {
        "_uuid": "d03d6e7c9daf241b2133754d5abc0f064e356a96",
        "_cell_guid": "3e6e2728-04eb-44ac-834f-b19a76ad0c39",
        "collapsed": true,
        "id": "XZYfOnKZIBCz",
        "colab_type": "text"
      },
      "source": [
        "* As you can see from plot above, our time series has seasonal variation. In summer, mean temperature is higher and in winter mean temperature is lower for each year.\n",
        "* Now lets check stationary of time series. We can check stationarity using the following methods: \n",
        "    * Plotting Rolling Statistics: We have a window lets say window size is 6 and then we find rolling mean and variance to check stationary.\n",
        "    * Dickey-Fuller Test: The test results comprise of a **Test Statistic** and some **Critical Values** for difference confidence levels. If the **test statistic** is less than the **critical value**, we can say that time series is stationary."
      ]
    },
    {
      "cell_type": "code",
      "metadata": {
        "_uuid": "32a4eb1d06e559f200f429128fb6f2d62b3748d0",
        "_cell_guid": "733515cb-cd41-4e55-981b-6ba982ffef0b",
        "trusted": true,
        "id": "mF6D_rf_IBC0",
        "colab_type": "code",
        "colab": {}
      },
      "source": [
        "# adfuller library \n",
        "from statsmodels.tsa.stattools import adfuller\n",
        "# check_adfuller\n",
        "def check_adfuller(ts):\n",
        "    # Dickey-Fuller test\n",
        "    result = adfuller(ts, autolag='AIC')\n",
        "    print('Test statistic: ' , result[0])\n",
        "    print('p-value: '  ,result[1])\n",
        "    print('Critical Values:' ,result[4])\n",
        "# check_mean_std\n",
        "def check_mean_std(ts):\n",
        "    #Rolling statistics\n",
        "    rolmean = pd.rolling_mean(ts, window=6)\n",
        "    rolstd = pd.rolling_std(ts, window=6)\n",
        "    plt.figure(figsize=(22,10))   \n",
        "    orig = plt.plot(ts, color='red',label='Original')\n",
        "    mean = plt.plot(rolmean, color='black', label='Rolling Mean')\n",
        "    std = plt.plot(rolstd, color='green', label = 'Rolling Std')\n",
        "    plt.xlabel(\"Date\")\n",
        "    plt.ylabel(\"Mean Temperature\")\n",
        "    plt.title('Rolling Mean & Standard Deviation')\n",
        "    plt.legend()\n",
        "    plt.show()\n",
        "    \n",
        "# check stationary: mean, variance(std)and adfuller test\n",
        "check_mean_std(ts)\n",
        "check_adfuller(ts.MeanTemp)\n"
      ],
      "execution_count": 0,
      "outputs": []
    },
    {
      "cell_type": "markdown",
      "metadata": {
        "_uuid": "427f27fc24e02d6cbd72f1a06998bf530113b1b4",
        "_cell_guid": "33ba3b3a-330f-46bb-8e1c-8f1c73a6ebb0",
        "collapsed": true,
        "id": "WbgJnINNIBC3",
        "colab_type": "text"
      },
      "source": [
        "* Our first criteria for stationary is constant mean. So we fail because mean is not constant as you can see from plot(black line) above . (no stationary)\n",
        "* Second one is constant variance. It looks like constant. (yes stationary)\n",
        "* Third one is that If the **test statistic** is less than the **critical value**, we can say that time series is stationary. Lets look:\n",
        "    * test statistic = -1.4 and critical values = {'1%': -3.439229783394421, '5%': -2.86545894814762, '10%': -2.5688568756191392}. Test statistic is bigger than the critical values. (no stationary)\n",
        "* As a result, we sure that our time series is not stationary.\n",
        "* Lets make time series stationary at the next part."
      ]
    },
    {
      "cell_type": "markdown",
      "metadata": {
        "_uuid": "a601954d4c2c98730c17bb29f446af3ff1815b44",
        "_cell_guid": "262dc75e-9092-499f-b583-aa8cbbb796c8",
        "collapsed": true,
        "id": "jIJnLVuWIBC4",
        "colab_type": "text"
      },
      "source": [
        "<a id=\"8\"></a> <br>\n",
        "### Make a Time Series Stationary?\n",
        "* As we mentioned before, there are 2  reasons behind non-stationarity of time series\n",
        "    * Trend: varying mean over time. We need constant mean for stationary of time series.\n",
        "    * Seasonality: variations at specific time. We need constant variations for stationary of time series.\n",
        "* First solve **trend(constant mean)** problem\n",
        "    * Most popular method is moving average.\n",
        "        * Moving average: We have window that take the average over the past 'n' sample. 'n' is window size."
      ]
    },
    {
      "cell_type": "code",
      "metadata": {
        "_uuid": "ffacae09459262f973293b1501b2291d9537d00b",
        "_cell_guid": "fe9f451e-2b40-4add-ba76-af1bfd1230b3",
        "trusted": true,
        "id": "0aEEutVJIBC5",
        "colab_type": "code",
        "colab": {}
      },
      "source": [
        "# Moving average method\n",
        "window_size = 6\n",
        "moving_avg = pd.rolling_mean(ts,window_size)\n",
        "plt.figure(figsize=(22,10))\n",
        "plt.plot(ts, color = \"red\",label = \"Original\")\n",
        "plt.plot(moving_avg, color='black', label = \"moving_avg_mean\")\n",
        "plt.title(\"Mean Temperature of Bindukuri Area\")\n",
        "plt.xlabel(\"Date\")\n",
        "plt.ylabel(\"Mean Temperature\")\n",
        "plt.legend()\n",
        "plt.show()"
      ],
      "execution_count": 0,
      "outputs": []
    },
    {
      "cell_type": "code",
      "metadata": {
        "_uuid": "680cb2fa69b66e96ec4e164bf2f77d02877a8163",
        "_cell_guid": "2e92e808-3d91-487b-9f0b-c535d573fb95",
        "trusted": true,
        "id": "VHTEwcqIIBC8",
        "colab_type": "code",
        "colab": {}
      },
      "source": [
        "ts_moving_avg_diff = ts - moving_avg\n",
        "ts_moving_avg_diff.dropna(inplace=True) # first 6 is nan value due to window size\n",
        "\n",
        "# check stationary: mean, variance(std)and adfuller test\n",
        "check_mean_std(ts_moving_avg_diff)\n",
        "check_adfuller(ts_moving_avg_diff.MeanTemp)"
      ],
      "execution_count": 0,
      "outputs": []
    },
    {
      "cell_type": "markdown",
      "metadata": {
        "_uuid": "58201e65b61d9fcd8ae817821158d4e7c3f8b75a",
        "_cell_guid": "44135608-509b-471e-b4f0-33962322eecf",
        "collapsed": true,
        "id": "OqDaEO8AIBC-",
        "colab_type": "text"
      },
      "source": [
        "* Constant mean criteria: mean looks like constant as you can see from plot(black line) above . (yes stationary)\n",
        "* Second one is constant variance. It looks like constant. (yes stationary)\n",
        "* The test statistic is smaller than the 1% critical values so we can say with 99% confidence that this is a stationary series. (yes stationary)\n",
        "* We achieve stationary time series. However lets look at one more method to avoid trend and seasonality.\n",
        "    * Differencing method: It is one of the most common method. Idea is that take difference between time series and shifted time series. \n"
      ]
    },
    {
      "cell_type": "code",
      "metadata": {
        "_uuid": "923528eb1947b3b2b5d521f666b6367fe4fa948b",
        "_cell_guid": "0b611c0a-1296-452b-8d17-d9bddf7f21b1",
        "trusted": true,
        "id": "iklC5sVcIBC_",
        "colab_type": "code",
        "colab": {}
      },
      "source": [
        "# differencing method\n",
        "ts_diff = ts - ts.shift()\n",
        "plt.figure(figsize=(22,10))\n",
        "plt.plot(ts_diff)\n",
        "plt.title(\"Differencing method\") \n",
        "plt.xlabel(\"Date\")\n",
        "plt.ylabel(\"Differencing Mean Temperature\")\n",
        "plt.show()"
      ],
      "execution_count": 0,
      "outputs": []
    },
    {
      "cell_type": "code",
      "metadata": {
        "_uuid": "31f6586139decfe24dae45445275f1f2a8f903c9",
        "_cell_guid": "a380bd9f-aa38-46f6-a481-861d6f6c35d8",
        "trusted": true,
        "id": "RknolewSIBDD",
        "colab_type": "code",
        "colab": {}
      },
      "source": [
        "ts_diff.dropna(inplace=True) # due to shifting there is nan values\n",
        "# check stationary: mean, variance(std)and adfuller test\n",
        "check_mean_std(ts_diff)\n",
        "check_adfuller(ts_diff.MeanTemp)"
      ],
      "execution_count": 0,
      "outputs": []
    },
    {
      "cell_type": "markdown",
      "metadata": {
        "_uuid": "e6c3ddbcfcf897ad6dcc2111be18e401d2d0b147",
        "_cell_guid": "180b7d1a-6c02-421d-8cc8-0cdd0c7d460f",
        "collapsed": true,
        "id": "8daHOG4YIBDQ",
        "colab_type": "text"
      },
      "source": [
        "* Constant mean criteria: mean looks like constant as you can see from plot(black line) above . (yes stationary)\n",
        "* Second one is constant variance. It looks like constant. (yes stationary)\n",
        "* The test statistic is smaller than the 1% critical values so we can say with 99% confidence that this is a stationary series. (yes stationary)"
      ]
    },
    {
      "cell_type": "markdown",
      "metadata": {
        "_uuid": "d59ed2d7e0b5f762a9176dbb6d1c8fc77ca012f0",
        "_cell_guid": "e16a722e-cfd2-401d-8422-784adf98ce02",
        "collapsed": true,
        "id": "nLB0oK_BIBDR",
        "colab_type": "text"
      },
      "source": [
        "<a id=\"9\"></a> <br>\n",
        "### Forecasting a Time Series\n",
        "* We learn two different methodsthat are **moving average and differencing** methods to avoid trend and seasonality problem\n",
        "* For prediction(forecasting) we will use ts_diff time series that is result of differencing method. There is no reason I only choose it.\n",
        "* Also prediction method is ARIMA that is Auto-Regressive Integrated Moving Averages.\n",
        "    * AR: Auto-Regressive (p): AR terms are just lags of dependent variable. For example lets say p is 3, we will use  x(t-1), x(t-2) and x(t-3) to predict x(t)\n",
        "    * I: Integrated (d): These are the number of nonseasonal differences. For example, in our case we take the first order difference. So we pass that variable and put d=0 \n",
        "    * MA: Moving Averages (q): MA terms are lagged forecast errors in prediction equation.\n",
        "* (p,d,q) is parameters of ARIMA model.\n",
        "* In order to choose p,d,q parameters we will use two different plots.\n",
        "    * Autocorrelation Function (ACF): Measurement of the correlation between time series and lagged version of time series. \n",
        "    * Partial Autocorrelation Function (PACF): This measures the correlation between the time series and lagged version of time series but after eliminating the variations already explained by the intervening comparisons. "
      ]
    },
    {
      "cell_type": "code",
      "metadata": {
        "_uuid": "910f234149d931502e67317100e32b0f191c0e5c",
        "_cell_guid": "08bbc1fa-f573-4d4e-b543-0ec53b5ea00f",
        "trusted": true,
        "id": "e1LSAKCVIBDS",
        "colab_type": "code",
        "colab": {}
      },
      "source": [
        "# ACF and PACF \n",
        "from statsmodels.tsa.stattools import acf, pacf\n",
        "lag_acf = acf(ts_diff, nlags=20)\n",
        "lag_pacf = pacf(ts_diff, nlags=20, method='ols')\n",
        "# ACF\n",
        "plt.figure(figsize=(22,10))\n",
        "\n",
        "plt.subplot(121) \n",
        "plt.plot(lag_acf)\n",
        "plt.axhline(y=0,linestyle='--',color='gray')\n",
        "plt.axhline(y=-1.96/np.sqrt(len(ts_diff)),linestyle='--',color='gray')\n",
        "plt.axhline(y=1.96/np.sqrt(len(ts_diff)),linestyle='--',color='gray')\n",
        "plt.title('Autocorrelation Function')\n",
        "\n",
        "# PACF\n",
        "plt.subplot(122)\n",
        "plt.plot(lag_pacf)\n",
        "plt.axhline(y=0,linestyle='--',color='gray')\n",
        "plt.axhline(y=-1.96/np.sqrt(len(ts_diff)),linestyle='--',color='gray')\n",
        "plt.axhline(y=1.96/np.sqrt(len(ts_diff)),linestyle='--',color='gray')\n",
        "plt.title('Partial Autocorrelation Function')\n",
        "plt.tight_layout()"
      ],
      "execution_count": 0,
      "outputs": []
    },
    {
      "cell_type": "markdown",
      "metadata": {
        "_uuid": "a99dbd506736d3382b2c61b7e6d2cb475e66dc92",
        "_cell_guid": "53e4dc56-9e1b-41ff-a90c-3efe70dd0cd9",
        "collapsed": true,
        "id": "_WHX3Lx-IBDV",
        "colab_type": "text"
      },
      "source": [
        "* Two dotted lines are the confidence interevals. We use these lines to determine the ‘p’ and ‘q’ values\n",
        "    * Choosing p: The lag value where the PACF chart crosses the upper confidence interval for the first time. p=1.\n",
        "    * Choosing q: The lag value where the ACF chart crosses the upper confidence interval for the first time. q=1.\n",
        "* Now lets use (1,0,1) as parameters of ARIMA models and predict  \n",
        "    * ARIMA: from statsmodels libarary\n",
        "    * datetime: we will use it start and end indexes of predict method"
      ]
    },
    {
      "cell_type": "code",
      "metadata": {
        "_uuid": "358f7b5900540bcb6555a3499cd9949ec902dd38",
        "_cell_guid": "6f39edbf-b5a3-4b29-bff7-808062ab999c",
        "trusted": true,
        "id": "PpHfOb2QIBDW",
        "colab_type": "code",
        "colab": {}
      },
      "source": [
        "# ARIMA LİBRARY\n",
        "from statsmodels.tsa.arima_model import ARIMA\n",
        "from pandas import datetime\n",
        "\n",
        "# fit model\n",
        "model = ARIMA(ts, order=(1,0,1)) # (ARMA) = (1,0,1)\n",
        "model_fit = model.fit(disp=0)\n",
        "\n",
        "# predict\n",
        "start_index = datetime(1944, 6, 25)\n",
        "end_index = datetime(1945, 5, 31)\n",
        "forecast = model_fit.predict(start=start_index, end=end_index)\n",
        "\n",
        "# visualization\n",
        "plt.figure(figsize=(22,10))\n",
        "plt.plot(weather_bin.Date,weather_bin.MeanTemp,label = \"original\")\n",
        "plt.plot(forecast,label = \"predicted\")\n",
        "plt.title(\"Time Series Forecast\")\n",
        "plt.xlabel(\"Date\")\n",
        "plt.ylabel(\"Mean Temperature\")\n",
        "plt.legend()\n",
        "plt.show()"
      ],
      "execution_count": 0,
      "outputs": []
    },
    {
      "cell_type": "markdown",
      "metadata": {
        "_uuid": "2ef0ec136123a4a1609aed41c99d1e69959121d8",
        "_cell_guid": "a7794999-8ecb-4ed5-92fa-30f1c40245c5",
        "id": "zKlzZ55AIBDZ",
        "colab_type": "text"
      },
      "source": [
        "* lets predict and visualize all path and find mean squared error"
      ]
    },
    {
      "cell_type": "code",
      "metadata": {
        "_uuid": "5b33c407344286af51d9a388d7ff315aec08a6c8",
        "_cell_guid": "ba86a7be-840d-430a-907b-55afe1fcbf3a",
        "trusted": true,
        "id": "XlSjwaosIBDc",
        "colab_type": "code",
        "colab": {}
      },
      "source": [
        "# predict all path\n",
        "from sklearn.metrics import mean_squared_error\n",
        "# fit model\n",
        "model2 = ARIMA(ts, order=(1,0,1)) # (ARMA) = (1,0,1)\n",
        "model_fit2 = model2.fit(disp=0)\n",
        "forecast2 = model_fit2.predict()\n",
        "error = mean_squared_error(ts, forecast2)\n",
        "print(\"error: \" ,error)\n",
        "# visualization\n",
        "plt.figure(figsize=(22,10))\n",
        "plt.plot(weather_bin.Date,weather_bin.MeanTemp,label = \"original\")\n",
        "plt.plot(forecast2,label = \"predicted\")\n",
        "plt.title(\"Time Series Forecast\")\n",
        "plt.xlabel(\"Date\")\n",
        "plt.ylabel(\"Mean Temperature\")\n",
        "plt.legend()\n",
        "plt.savefig('graph.png')\n",
        "\n",
        "plt.show()"
      ],
      "execution_count": 0,
      "outputs": []
    },
    {
      "cell_type": "markdown",
      "metadata": {
        "_uuid": "1cbbefeb68d7c4bd98bbbf00213977d49adb34d7",
        "_cell_guid": "04f823f3-e72f-4af0-8676-ccae3dad5dfa",
        "collapsed": true,
        "id": "hPZb0YQzIBDe",
        "colab_type": "text"
      },
      "source": [
        "<a id=\"10\"></a> <br>\n",
        "# Conclusion\n",
        "* In this tutorial, I want ot make tutorial about ARIMA and make some visualization before it.\n",
        "* We learn how to make map plots with pyplot. \n",
        "* We learn how to make time series forecast.\n",
        "* **If you have any question advise or feedback, I will be very happy to hear it**"
      ]
    }
  ]
}